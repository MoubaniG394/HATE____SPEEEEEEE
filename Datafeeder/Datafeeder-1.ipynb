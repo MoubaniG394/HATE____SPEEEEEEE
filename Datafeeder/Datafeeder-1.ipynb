{
 "cells": [
  {
   "cell_type": "code",
   "execution_count": null,
   "id": "27f9dc75",
   "metadata": {},
   "outputs": [],
   "source": [
    "#feed the and make a it in for of a data frame \n",
    "train_data = [\n",
    "    {\"text\": \"Some normal text\", \"label\": 0},\n",
    "    {\"text\": \"Hate speech example\", \"label\": 1},\n",
    "\n"
   ]
  }
 ],
 "metadata": {
  "kernelspec": {
   "display_name": "Python 3 (ipykernel)",
   "language": "python",
   "name": "python3"
  },
  "language_info": {
   "codemirror_mode": {
    "name": "ipython",
    "version": 3
   },
   "file_extension": ".py",
   "mimetype": "text/x-python",
   "name": "python",
   "nbconvert_exporter": "python",
   "pygments_lexer": "ipython3",
   "version": "3.9.13"
  }
 },
 "nbformat": 4,
 "nbformat_minor": 5
}
