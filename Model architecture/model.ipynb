{
 "cells": [
  {
   "cell_type": "code",
   "execution_count": null,
   "id": "19f7969d",
   "metadata": {},
   "outputs": [],
   "source": [
    "import torch\n",
    "import torch.nn as nn\n",
    "from transformers import BertModel, BertTokenizer\n",
    "\n",
    "# Define the HateSpeechClassifier model\n",
    "class HateSpeechClassifier(nn.Module):\n",
    "    def __init__(self, pretrained_model_name, num_labels):\n",
    "        super(HateSpeechClassifier, self).__init__()\n",
    "        self.bert = BertModel.from_pretrained(pretrained_model_name)\n",
    "        self.dropout = nn.Dropout(self.bert.config.hidden_dropout_prob)\n",
    "        self.classifier = nn.Linear(self.bert.config.hidden_size, num_labels)\n",
    "        \n",
    "    def forward(self, input_ids, attention_mask):\n",
    "        outputs = self.bert(input_ids, attention_mask=attention_mask)\n",
    "        pooled_output = outputs.pooler_output\n",
    "        pooled_output = self.dropout(pooled_output)\n",
    "        logits = self.classifier(pooled_output)\n",
    "        return logits\n",
    "\n",
    "# Example hyperparameters\n",
    "pretrained_model_name = 'bert-base-uncased'\n",
    "num_labels = 2  # 0: Normal, 1: Hate Speech\n",
    "\n",
    "# Initialize the model and tokenizer\n",
    "model = HateSpeechClassifier(pretrained_model_name, num_labels)\n",
    "tokenizer = BertTokenizer.from_pretrained(pretrained_model_name)\n"
   ]
  }
 ],
 "metadata": {
  "kernelspec": {
   "display_name": "Python 3 (ipykernel)",
   "language": "python",
   "name": "python3"
  },
  "language_info": {
   "codemirror_mode": {
    "name": "ipython",
    "version": 3
   },
   "file_extension": ".py",
   "mimetype": "text/x-python",
   "name": "python",
   "nbconvert_exporter": "python",
   "pygments_lexer": "ipython3",
   "version": "3.9.13"
  }
 },
 "nbformat": 4,
 "nbformat_minor": 5
}
