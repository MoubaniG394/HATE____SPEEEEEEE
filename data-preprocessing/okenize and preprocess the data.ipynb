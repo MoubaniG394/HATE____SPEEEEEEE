{
 "cells": [
  {
   "cell_type": "code",
   "execution_count": null,
   "id": "f3a99d2e",
   "metadata": {},
   "outputs": [],
   "source": [
    "# Tokenize and preprocess the data\n",
    "inputs = tokenizer(\n",
    "    [example[\"text\"] for example in train_data],\n",
    "    padding=True,\n",
    "    truncation=True,\n",
    "    return_tensors=\"pt\",\n",
    ")\n",
    "\n",
    "labels = torch.tensor([example[\"label\"] for example in train_data])\n"
   ]
  },
  {
   "cell_type": "code",
   "execution_count": null,
   "id": "cfa10064",
   "metadata": {},
   "outputs": [],
   "source": [
    "# Split data into training and validation sets (80-20 split)\n",
    "train_size = int(0.8 * len(train_data))\n",
    "train_inputs = {key: val[:train_size] for key, val in inputs.items()}\n",
    "train_labels = labels[:train_size]\n",
    "\n",
    "val_inputs = {key: val[train_size:] for key, val in inputs.items()}\n",
    "val_labels = labels[train_size:]\n"
   ]
  }
 ],
 "metadata": {
  "kernelspec": {
   "display_name": "Python 3 (ipykernel)",
   "language": "python",
   "name": "python3"
  },
  "language_info": {
   "codemirror_mode": {
    "name": "ipython",
    "version": 3
   },
   "file_extension": ".py",
   "mimetype": "text/x-python",
   "name": "python",
   "nbconvert_exporter": "python",
   "pygments_lexer": "ipython3",
   "version": "3.9.13"
  }
 },
 "nbformat": 4,
 "nbformat_minor": 5
}
